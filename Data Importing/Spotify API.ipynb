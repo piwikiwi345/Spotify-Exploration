{
 "cells": [
  {
   "cell_type": "markdown",
   "id": "767c5292",
   "metadata": {},
   "source": [
    "# Getting Access Token"
   ]
  },
  {
   "cell_type": "code",
   "execution_count": 1,
   "id": "ac5b6992",
   "metadata": {},
   "outputs": [],
   "source": [
    "import requests\n",
    "import base64\n",
    "from requests import post\n",
    "from requests import get\n",
    "import json\n",
    "import pprint \n",
    "import pandas as pd\n",
    "import spotify_api_data_retrieval as api"
   ]
  },
  {
   "cell_type": "code",
   "execution_count": 2,
   "id": "88cbe60b",
   "metadata": {},
   "outputs": [
    {
     "name": "stdout",
     "output_type": "stream",
     "text": [
      "{\"access_token\": \"BQDKNPuJ8xWp_yaAg1ccDeaoorz9obsy0ZZ0cJz0DE-T5hAb_642xgiTn8tI6E7LkhgvJ6lZ223EJ6P5ocHC152wgfiH1tnptIYKGuCtQtlUv6u6lLA\", \"token_type\": \"Bearer\", \"expires_in\": 3600}\n"
     ]
    }
   ],
   "source": [
    "client_id = \"3f610174211649e6930e17f17645f3dd\"\n",
    "client_secret = \"dfb8a88954ed405ca67a62d0837fd82f\"\n",
    "\n",
    "token = api.get_token(client_id, client_secret)"
   ]
  },
  {
   "cell_type": "markdown",
   "id": "ec4a8100",
   "metadata": {},
   "source": [
    "This function only seems to work within this jupyer notebook. An identical function is in the [spotify_api_data_retrieval.py](spotify_api_data_retrieval.py) script but keeps giving an error when I try to use it."
   ]
  },
  {
   "cell_type": "code",
   "execution_count": 5,
   "id": "143e4be0",
   "metadata": {},
   "outputs": [],
   "source": [
    "def get_genres_for_playlist(token, playlist_id):\n",
    "    '''\n",
    "    This function gets the artist name, ID, and genre information for all the tracks in a playlist returned as a pandas dataframe.\n",
    "    \n",
    "    token: bearer token ID\n",
    "    playlist_id: playlist ID formatted as a string\n",
    "    '''\n",
    "    # get track metadata from playlists\n",
    "    playlist = api.get_playlist(token, playlist_id)\n",
    "    tracks = playlist[\"tracks\"][\"items\"]\n",
    "\n",
    "    # extract track IDs from dictionary and store in list\n",
    "    tracks_ids = []\n",
    "\n",
    "    for song in tracks:\n",
    "        tracks_ids.append(song[\"track\"][\"id\"])\n",
    "        \n",
    "    # get artist IDs for each track in playlist\n",
    "    artists_ids = []\n",
    "    \n",
    "    for track_id in tracks_ids:\n",
    "        artists_ids.append(api.get_artist_details_from_track(token, track_id)['artist_id'])\n",
    "        \n",
    "    # get genres for each artist\n",
    "    tracks_genre = []\n",
    "    \n",
    "    for artist_id in artists_ids:\n",
    "        tracks_genre.append(api.get_artist_genre(token, artist_id))\n",
    "\n",
    "    df = pd.DataFrame(tracks_genre)\n",
    "    \n",
    "    return(df)"
   ]
  },
  {
   "cell_type": "code",
   "execution_count": 4,
   "id": "795ebaee",
   "metadata": {},
   "outputs": [],
   "source": [
    "def holy_trinity(token, playlist_id, playlist_name):\n",
    "    '''\n",
    "    This function returns three separate .csv files each containing the following information for all the tracks in \n",
    "    a given playlist:\n",
    "    \n",
    "    1. Audio features\n",
    "    2. Genres\n",
    "    3. Artist and track information\n",
    "    \n",
    "    token: bearer token ID\n",
    "    playlist_id: playlist ID formatted as a string\n",
    "    playlist_name: name of the playlist formatted as a string\n",
    "    '''\n",
    "    \n",
    "    # Audio Features .csv\n",
    "    audio_features = api.get_audio_features_for_playlist(token, playlist_id)\n",
    "    api.df_export_csv(audio_features, playlist_name + '_audio_features')\n",
    "    \n",
    "    # Genres .csv\n",
    "    genres = get_genres_for_playlist(token, playlist_id)\n",
    "    api.df_export_csv(genres, playlist_name + '_genres')\n",
    "    \n",
    "    # Track and Artist Info\n",
    "    track_and_artist_info = api.get_track_and_artist_info_for_playlist(token, playlist_id)\n",
    "    api.df_export_csv(track_and_artist_info, playlist_name + '_track_and_artist_info')"
   ]
  },
  {
   "cell_type": "markdown",
   "id": "950ace09",
   "metadata": {},
   "source": [
    "## Top 50 USA Chart"
   ]
  },
  {
   "cell_type": "code",
   "execution_count": 6,
   "id": "08320523",
   "metadata": {},
   "outputs": [],
   "source": [
    "# get information in .csv files\n",
    "holy_trinity(token, '37i9dQZEVXbLp5XoPON0wI', 'data/usa/top_songs_usa')"
   ]
  },
  {
   "cell_type": "markdown",
   "id": "a0ae6e59",
   "metadata": {},
   "source": [
    "## Top 50 Australia Chart"
   ]
  },
  {
   "cell_type": "code",
   "execution_count": 7,
   "id": "917589e4",
   "metadata": {},
   "outputs": [],
   "source": [
    "# get information in .csv files\n",
    "holy_trinity(token, '37i9dQZEVXbK4fwx2r07XW', 'data/australia/top_songs_australia')"
   ]
  },
  {
   "cell_type": "markdown",
   "id": "910ae212",
   "metadata": {},
   "source": [
    "## Top 50 Brazil Chart"
   ]
  },
  {
   "cell_type": "code",
   "execution_count": null,
   "id": "65e96b5c",
   "metadata": {},
   "outputs": [],
   "source": [
    "# get information in .csv files\n",
    "holy_trinity(token, '37i9dQZEVXbKzoK95AbRy9', 'data/brazil/top_songs_brazil')"
   ]
  },
  {
   "cell_type": "code",
   "execution_count": null,
   "id": "8ed5b24b",
   "metadata": {},
   "outputs": [],
   "source": []
  }
 ],
 "metadata": {
  "kernelspec": {
   "display_name": "Python 3 (ipykernel)",
   "language": "python",
   "name": "python3"
  },
  "language_info": {
   "codemirror_mode": {
    "name": "ipython",
    "version": 3
   },
   "file_extension": ".py",
   "mimetype": "text/x-python",
   "name": "python",
   "nbconvert_exporter": "python",
   "pygments_lexer": "ipython3",
   "version": "3.11.3"
  }
 },
 "nbformat": 4,
 "nbformat_minor": 5
}
