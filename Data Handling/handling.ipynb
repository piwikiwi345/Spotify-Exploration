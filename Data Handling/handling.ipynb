{
 "cells": [
  {
   "cell_type": "markdown",
   "id": "e44cfc40",
   "metadata": {},
   "source": [
    "# Creating SQL Database "
   ]
  },
  {
   "cell_type": "markdown",
   "id": "ee723b71",
   "metadata": {},
   "source": [
    "This jupyter notebook just helps create SQL tables and import data into them. Sadly, the '.import' function cannot be used in a python script, so it must be inputted manually into the terminal. However, I can still create the commands in this script which are almost the same for each country but have small differences."
   ]
  },
  {
   "cell_type": "code",
   "execution_count": 4,
   "id": "530e30a2",
   "metadata": {},
   "outputs": [],
   "source": [
    "import sqlite3\n",
    "import csv"
   ]
  },
  {
   "cell_type": "code",
   "execution_count": 2,
   "id": "2b45707a",
   "metadata": {},
   "outputs": [],
   "source": [
    "def execute_sql_query(connection, query, params):\n",
    "    cursor = connection.cursor()\n",
    "    cursor.execute(query, params)\n",
    "    connection.commit()"
   ]
  },
  {
   "cell_type": "markdown",
   "id": "65aa118d",
   "metadata": {},
   "source": [
    "## Functions to import csv files into tables"
   ]
  },
  {
   "cell_type": "code",
   "execution_count": 16,
   "id": "1f3ede7e",
   "metadata": {},
   "outputs": [],
   "source": [
    "# SQL code to create audio features table and import data\n",
    "\n",
    "def create_table(country, db_path):\n",
    "    '''\n",
    "    This function creates an SQL table in a SQL database\n",
    "    \n",
    "    country: a string containing the name of a country\n",
    "    '''\n",
    "    # Replace 'your_database.db' with the path to your SQLite database file.\n",
    "    \n",
    "\n",
    "    try:\n",
    "        # Connect to the database\n",
    "        connection = sqlite3.connect(db_path)\n",
    "        cursor = connection.cursor()\n",
    "\n",
    "        # Create the table using the table_name parameter\n",
    "        create_table_query = f'''\n",
    "            create table {country}_track_and_artist_info (\n",
    "                name TEXT, \n",
    "                artist_id TEXT, \n",
    "                track_id TEXT, \n",
    "                track_name TEXT, \n",
    "                popularity INTEGER\n",
    "            )\n",
    "        '''\n",
    "        cursor.execute(create_table_query)\n",
    "\n",
    "        connection.commit()\n",
    "\n",
    "    except sqlite3.Error as e:\n",
    "        print(f\"Error: {e}\")\n",
    "\n",
    "    finally:\n",
    "        # Close the database connection when done\n",
    "        if connection:\n",
    "            connection.close()"
   ]
  },
  {
   "cell_type": "code",
   "execution_count": 22,
   "id": "6cd42117",
   "metadata": {},
   "outputs": [],
   "source": [
    "def create_SQL_commands(country):\n",
    "    print(f'''create table {country}_track_and_artist_info (\n",
    "          name TEXT, \n",
    "          artist_id TEXT, \n",
    "          track_id TEXT, \n",
    "          track_name TEXT, \n",
    "          popularity INTEGER);''')\n",
    "          \n",
    "    print(f'''.import --skip 1 /Users/prithvivenkataswamy/Documents/Spotify-Exploration/data/{country}/top_songs_{country}_track_and_artist_info.csv {country}_track_and_artist_info\n",
    "    ''')\n",
    "          \n",
    "    print(f'''\n",
    "        create table {country}_genres (artist_id TEXT, name TEXT, 'Genre 1' TEXT, 'Genre 2' TEXT, 'Genre 3' TEXT, 'Genre 4' TEXT, 'Genre 5' TEXT, 'Genre 6' TEXT);\n",
    "    ''')\n",
    "          \n",
    "    print(f'''\n",
    "    .import --skip 1 /Users/prithvivenkataswamy/Documents/Spotify-Exploration/data/{country}/top_songs_{country}_genres.csv {country}_genres\n",
    "    ''')\n",
    "          \n",
    "    print(f'''\n",
    "    create table {country}_audio_features (id TEXT, danceability FLOAT, energy FLOAT, key INTEGER, loudness FLOAT, mode INTEGER, speechiness FLOAT, acousticness FLOAT, instrumentalness FLOAT, liveness FLOAT, valence FLOAT, tempo FLOAT,duration_ms INTEGER,time_signature INTEGER);\n",
    "    ''')\n",
    "          \n",
    "    print(f'''\n",
    "    .import --skip 1 /Users/prithvivenkataswamy/Documents/Spotify-Exploration/data/{country}/top_songs_{country}_audio_features.csv {country}_audio_features\n",
    "    ''')"
   ]
  },
  {
   "cell_type": "code",
   "execution_count": 30,
   "id": "bb5c3a96",
   "metadata": {},
   "outputs": [
    {
     "name": "stdout",
     "output_type": "stream",
     "text": [
      "create table australia_track_and_artist_info (\n",
      "          name TEXT, \n",
      "          artist_id TEXT, \n",
      "          track_id TEXT, \n",
      "          track_name TEXT, \n",
      "          popularity INTEGER);\n",
      ".import --skip 1 /Users/prithvivenkataswamy/Documents/Spotify-Exploration/data/australia/top_songs_australia_track_and_artist_info.csv australia_track_and_artist_info\n",
      "    \n",
      "\n",
      "        create table australia_genres (artist_id TEXT, name TEXT, 'Genre 1' TEXT, 'Genre 2' TEXT, 'Genre 3' TEXT, 'Genre 4' TEXT, 'Genre 5' TEXT, 'Genre 6' TEXT);\n",
      "    \n",
      "\n",
      "    .import --skip 1 /Users/prithvivenkataswamy/Documents/Spotify-Exploration/data/australia/top_songs_australia_genres.csv australia_genres\n",
      "    \n",
      "\n",
      "    create table australia_audio_features (id TEXT, danceability FLOAT, energy FLOAT, key INTEGER, loudness FLOAT, mode INTEGER, speechiness FLOAT, acousticness FLOAT, instrumentalness FLOAT, liveness FLOAT, valence FLOAT, tempo FLOAT,duration_ms INTEGER,time_signature INTEGER);\n",
      "    \n",
      "\n",
      "    .import --skip 1 /Users/prithvivenkataswamy/Documents/Spotify-Exploration/data/australia/top_songs_australia_audio_features.csv australia_audio_features\n",
      "    \n"
     ]
    }
   ],
   "source": [
    "create_SQL_commands('australia')"
   ]
  },
  {
   "cell_type": "code",
   "execution_count": null,
   "id": "089cf86e",
   "metadata": {},
   "outputs": [],
   "source": []
  }
 ],
 "metadata": {
  "kernelspec": {
   "display_name": "Python 3 (ipykernel)",
   "language": "python",
   "name": "python3"
  },
  "language_info": {
   "codemirror_mode": {
    "name": "ipython",
    "version": 3
   },
   "file_extension": ".py",
   "mimetype": "text/x-python",
   "name": "python",
   "nbconvert_exporter": "python",
   "pygments_lexer": "ipython3",
   "version": "3.11.3"
  }
 },
 "nbformat": 4,
 "nbformat_minor": 5
}
