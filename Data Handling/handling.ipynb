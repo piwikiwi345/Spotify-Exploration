{
 "cells": [
  {
   "cell_type": "markdown",
   "id": "1fb2d2bc",
   "metadata": {},
   "source": [
    "# Creating SQL Database "
   ]
  },
  {
   "cell_type": "markdown",
   "id": "86821809",
   "metadata": {},
   "source": [
    "This jupyter notebook just helps create SQL tables and import data into them. Sadly, the '.import' function cannot be used in a python script, so it must be inputted manually into the terminal. However, I can still create the commands in this script which are almost the same for each country but have small differences."
   ]
  },
  {
   "cell_type": "code",
   "execution_count": 1,
   "id": "9a6d6dd0",
   "metadata": {},
   "outputs": [],
   "source": [
    "import sqlite3\n",
    "import csv\n",
    "import handling"
   ]
  },
  {
   "cell_type": "code",
   "execution_count": 2,
   "id": "feb312af",
   "metadata": {},
   "outputs": [],
   "source": [
    "def execute_sql_query(connection, query, params):\n",
    "    cursor = connection.cursor()\n",
    "    cursor.execute(query, params)\n",
    "    connection.commit()"
   ]
  },
  {
   "cell_type": "markdown",
   "id": "9e220a9b",
   "metadata": {},
   "source": [
    "## Creating Tables and Imprting "
   ]
  },
  {
   "cell_type": "code",
   "execution_count": 3,
   "id": "9b3ea0bf",
   "metadata": {},
   "outputs": [],
   "source": [
    "#handling.create_SQL_commands('thailand')"
   ]
  },
  {
   "cell_type": "code",
   "execution_count": null,
   "id": "9e303cf5",
   "metadata": {},
   "outputs": [],
   "source": []
  },
  {
   "cell_type": "markdown",
   "id": "8be99f3d",
   "metadata": {},
   "source": [
    "## Combing Tables and Exporting Result"
   ]
  },
  {
   "cell_type": "code",
   "execution_count": 14,
   "id": "deebcb9f",
   "metadata": {},
   "outputs": [
    {
     "name": "stdout",
     "output_type": "stream",
     "text": [
      "\n",
      "            CREATE TABLE australia AS\n",
      "            SELECT DISTINCT *\n",
      "            FROM australia_track_and_artist_info\n",
      "            JOIN australia_audio_features ON australia_track_and_artist_info.track_id = australia_audio_features.id\n",
      "            JOIN australia_genres ON australia_track_and_artist_info.artist_id = australia_genres.artist_id;\n",
      "            \n",
      "            ALTER TABLE australia\n",
      "            DROP COLUMN 'artist_id:1';\n",
      "\n",
      "            ALTER TABLE australia\n",
      "            DROP COLUMN 'name:1';\n",
      "\n",
      "            .output /Users/prithvivenkataswamy/Documents/Spotify-Exploration/data/australia/australia.csv\n",
      "            SELECT * FROM australia;\n",
      "        \n"
     ]
    }
   ],
   "source": [
    "handling.combined_tables_SQL_command('australia')"
   ]
  },
  {
   "cell_type": "code",
   "execution_count": null,
   "id": "1680e29c",
   "metadata": {},
   "outputs": [],
   "source": []
  },
  {
   "cell_type": "code",
   "execution_count": null,
   "id": "39aadb87",
   "metadata": {},
   "outputs": [],
   "source": []
  }
 ],
 "metadata": {
  "kernelspec": {
   "display_name": "Python 3 (ipykernel)",
   "language": "python",
   "name": "python3"
  },
  "language_info": {
   "codemirror_mode": {
    "name": "ipython",
    "version": 3
   },
   "file_extension": ".py",
   "mimetype": "text/x-python",
   "name": "python",
   "nbconvert_exporter": "python",
   "pygments_lexer": "ipython3",
   "version": "3.11.3"
  }
 },
 "nbformat": 4,
 "nbformat_minor": 5
}
