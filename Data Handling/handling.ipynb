{
 "cells": [
  {
   "cell_type": "markdown",
   "id": "1fb2d2bc",
   "metadata": {},
   "source": [
    "# Creating SQL Database "
   ]
  },
  {
   "cell_type": "markdown",
   "id": "86821809",
   "metadata": {},
   "source": [
    "This jupyter notebook just helps create SQL tables and import data into them. Sadly, the '.import' function cannot be used in a python script, so it must be inputted manually into the terminal. However, I can still create the commands in this script which are almost the same for each country but have small differences."
   ]
  },
  {
   "cell_type": "code",
   "execution_count": 1,
   "id": "9a6d6dd0",
   "metadata": {},
   "outputs": [],
   "source": [
    "import sqlite3\n",
    "import csv\n",
    "import handling"
   ]
  },
  {
   "cell_type": "code",
   "execution_count": 2,
   "id": "feb312af",
   "metadata": {},
   "outputs": [],
   "source": [
    "def execute_sql_query(connection, query, params):\n",
    "    cursor = connection.cursor()\n",
    "    cursor.execute(query, params)\n",
    "    connection.commit()"
   ]
  },
  {
   "cell_type": "markdown",
   "id": "9e220a9b",
   "metadata": {},
   "source": [
    "## Creating Tables and Imprting "
   ]
  },
  {
   "cell_type": "code",
   "execution_count": 7,
   "id": "9b3ea0bf",
   "metadata": {},
   "outputs": [],
   "source": [
    "#handling.create_SQL_commands('thailand')"
   ]
  },
  {
   "cell_type": "code",
   "execution_count": null,
   "id": "9e303cf5",
   "metadata": {},
   "outputs": [],
   "source": []
  },
  {
   "cell_type": "markdown",
   "id": "8be99f3d",
   "metadata": {},
   "source": [
    "## Combing Tables and Exporting Result"
   ]
  },
  {
   "cell_type": "code",
   "execution_count": 8,
   "id": "deebcb9f",
   "metadata": {},
   "outputs": [
    {
     "ename": "TypeError",
     "evalue": "'NoneType' object is not iterable",
     "output_type": "error",
     "traceback": [
      "\u001b[0;31m---------------------------------------------------------------------------\u001b[0m",
      "\u001b[0;31mTypeError\u001b[0m                                 Traceback (most recent call last)",
      "Cell \u001b[0;32mIn[8], line 1\u001b[0m\n\u001b[0;32m----> 1\u001b[0m handling\u001b[38;5;241m.\u001b[39mcombine_tables(\u001b[38;5;124m'\u001b[39m\u001b[38;5;124mthailand\u001b[39m\u001b[38;5;124m'\u001b[39m,\u001b[38;5;124m'\u001b[39m\u001b[38;5;124m/Users/prithvivenkataswamy/Documents/Spotify-Exploration/Data Handling/spotify.db\u001b[39m\u001b[38;5;124m'\u001b[39m)\n",
      "File \u001b[0;32m~/Documents/Spotify-Exploration/Data Handling/handling.py:107\u001b[0m, in \u001b[0;36mcombine_tables\u001b[0;34m(country, db_path)\u001b[0m\n\u001b[1;32m    104\u001b[0m csv_writer \u001b[38;5;241m=\u001b[39m csv\u001b[38;5;241m.\u001b[39mwriter(file)\n\u001b[1;32m    106\u001b[0m \u001b[38;5;66;03m# Write the column headers as the first row in the CSV file\u001b[39;00m\n\u001b[0;32m--> 107\u001b[0m column_names \u001b[38;5;241m=\u001b[39m [description[\u001b[38;5;241m0\u001b[39m] \u001b[38;5;28;01mfor\u001b[39;00m description \u001b[38;5;129;01min\u001b[39;00m cursor\u001b[38;5;241m.\u001b[39mdescription]\n\u001b[1;32m    108\u001b[0m csv_writer\u001b[38;5;241m.\u001b[39mwriterow(column_names)\n\u001b[1;32m    110\u001b[0m \u001b[38;5;66;03m# Write the data rows to the CSV file\u001b[39;00m\n",
      "\u001b[0;31mTypeError\u001b[0m: 'NoneType' object is not iterable"
     ]
    }
   ],
   "source": [
    "handling.combine_tables('thailand','/Users/prithvivenkataswamy/Documents/Spotify-Exploration/Data Handling/spotify.db')"
   ]
  },
  {
   "cell_type": "code",
   "execution_count": null,
   "id": "1680e29c",
   "metadata": {},
   "outputs": [],
   "source": []
  }
 ],
 "metadata": {
  "kernelspec": {
   "display_name": "Python 3 (ipykernel)",
   "language": "python",
   "name": "python3"
  },
  "language_info": {
   "codemirror_mode": {
    "name": "ipython",
    "version": 3
   },
   "file_extension": ".py",
   "mimetype": "text/x-python",
   "name": "python",
   "nbconvert_exporter": "python",
   "pygments_lexer": "ipython3",
   "version": "3.11.3"
  }
 },
 "nbformat": 4,
 "nbformat_minor": 5
}
